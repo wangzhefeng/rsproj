{
 "cells": [
  {
   "cell_type": "markdown",
   "metadata": {},
   "source": [
    "# 分类器性能评估指标和方法"
   ]
  },
  {
   "cell_type": "markdown",
   "metadata": {},
   "source": [
    "1. 准确率通常无法成为分类器的首要性能指标, 特别是当你处理偏态分布(skewed dataset)的时候(即某些类比其他类的样本更多)；\n",
    "2. 评估分类器性能更好的方法是混淆矩阵(confusion matrix)；"
   ]
  },
  {
   "cell_type": "markdown",
   "metadata": {},
   "source": [
    "## 1.混淆矩阵"
   ]
  },
  {
   "cell_type": "code",
   "execution_count": null,
   "metadata": {
    "collapsed": true
   },
   "outputs": [],
   "source": [
    "from sklearn.metrics import confusion_matrix\n",
    "confusion_matrix(y_true, y_pred)"
   ]
  },
  {
   "cell_type": "markdown",
   "metadata": {},
   "source": [
    "* 混淆矩阵中的行表示**实际类别**, 列表示**预测类别**；\n",
    "* 一个完美的分类器只有**真负类(TP, true positive)**和**真正类(TN, true negtive)**, 即混淆矩阵只会在对角线上有非零值；\n",
    "* 混淆矩阵能提供大量分类信息, 但有时可能希望指标更简洁一些: \n",
    "    - 正类预测的准确率, 即分类器的精度"
   ]
  },
  {
   "cell_type": "markdown",
   "metadata": {},
   "source": [
    "## 1.2 精度 precision"
   ]
  },
  {
   "cell_type": "markdown",
   "metadata": {},
   "source": [
    "$$precision = \\frac{TP}{TP + FP}$$\n",
    "\n",
    "其中: \n",
    "\n",
    "* TP是正真类的数量, 混淆矩阵的右下角；\n",
    "* FP是假正类的数量, 混淆矩阵的右上角；\n",
    "* $100\\%$是完美的精度, 但是没有什么意义, 因为分类器会忽略这个正类实例之外的所有内容；\n",
    "* 精度(precision)通常与召回率(recall, 灵敏度(sensitivity))一起使用, ；"
   ]
  },
  {
   "cell_type": "markdown",
   "metadata": {},
   "source": [
    "## 1.3 召回率 recall"
   ]
  },
  {
   "cell_type": "markdown",
   "metadata": {},
   "source": [
    "$$recall = \\frac{TP}{TP + FN}$$\n",
    "\n",
    "其中: \n",
    "\n",
    "* TP是正真类的数量, 混淆矩阵的右下角；\n",
    "* FN是假负类的数量, 混淆矩阵的左下角；"
   ]
  },
  {
   "cell_type": "markdown",
   "metadata": {},
   "source": [
    "### 精度, 召回率实现"
   ]
  },
  {
   "cell_type": "code",
   "execution_count": null,
   "metadata": {
    "collapsed": true
   },
   "outputs": [],
   "source": [
    "from sklearn.metrics import precision_score, recall_score\n",
    "precision_score(y_true, y_pred)\n",
    "recall_score(y_true, y_pred)"
   ]
  },
  {
   "cell_type": "markdown",
   "metadata": {},
   "source": [
    "### 精度, 召回率解释"
   ]
  },
  {
   "cell_type": "markdown",
   "metadata": {},
   "source": [
    "* 精度:\n",
    "    - 当判断一个样本是正例时, 有多少的样本是预测准确的；\n",
    "* 召回率:\n",
    "    - 当谈论一个样本是正例时, 只有多少正真的正例被预测正确；"
   ]
  },
  {
   "cell_type": "markdown",
   "metadata": {},
   "source": [
    "## 1.4 F1 Score"
   ]
  },
  {
   "cell_type": "markdown",
   "metadata": {},
   "source": [
    "$$F1 = \\frac{2}{\\frac{1}{precision} + \\frac{1}{recall}}$$\n",
    "\n",
    "$$F1 = \\frac{TP}{TP + \\frac{FN+FP}{2}}$$\n",
    "\n",
    "* F1 score是精度和召回率的调和平均值；\n",
    "* 当需要一个更简单的方法比较两个分类器的性能时, F1 score是一个非常不错的指标；"
   ]
  },
  {
   "cell_type": "markdown",
   "metadata": {},
   "source": [
    "### F1 score的实现"
   ]
  },
  {
   "cell_type": "code",
   "execution_count": null,
   "metadata": {},
   "outputs": [],
   "source": [
    "from sklearn.metrics import f1_score\n",
    "f1_score(y_true, y_pred)"
   ]
  },
  {
   "cell_type": "markdown",
   "metadata": {},
   "source": [
    "### F1 score解释"
   ]
  },
  {
   "cell_type": "markdown",
   "metadata": {},
   "source": [
    "* F1 score对于那些具有相近的精度和召回率的分类器更有用；\n",
    "* 在某些情况下, 更关心的是精度, 而另一些情况下, 更关心的是召回率；"
   ]
  },
  {
   "cell_type": "code",
   "execution_count": null,
   "metadata": {
    "collapsed": true
   },
   "outputs": [],
   "source": []
  }
 ],
 "metadata": {
  "kernelspec": {
   "display_name": "Python 3",
   "language": "python",
   "name": "python3"
  },
  "language_info": {
   "codemirror_mode": {
    "name": "ipython",
    "version": 3
   },
   "file_extension": ".py",
   "mimetype": "text/x-python",
   "name": "python",
   "nbconvert_exporter": "python",
   "pygments_lexer": "ipython3",
   "version": "3.6.3"
  }
 },
 "nbformat": 4,
 "nbformat_minor": 2
}
