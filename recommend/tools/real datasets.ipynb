{
 "cells": [
  {
   "cell_type": "markdown",
   "metadata": {},
   "source": [
    "# 真实数据"
   ]
  },
  {
   "cell_type": "markdown",
   "metadata": {},
   "source": [
    "1. [UC Irvine Machine Learning Repository](http://archive.ics.uci.edu/ml/)\n",
    "2. [Kaggle datasets](https://www.kaggle.com/datasets)\n",
    "3. [Amazon's AWS datasest](http://aws.amazon.com/fr/datasets/)\n",
    "4. [http://dataportals.org](http://dataportals.org)\n",
    "5. [http://opendatamonitor.eu/](http://opendatamonitor.eu/)\n",
    "6. [http://quandl.com/](http://quandl.com/)\n",
    "7. [Wikipeida's list of Machine Learning datasets](https://goo.gl/SJHN2k)\n",
    "8. [Quora.com question](http://goo.gl/zDR78y)\n",
    "9. [Datasets subreddit](https://www.reddit.com/r/datasets)"
   ]
  }
 ],
 "metadata": {
  "kernelspec": {
   "display_name": "Python 3",
   "language": "python",
   "name": "python3"
  },
  "language_info": {
   "codemirror_mode": {
    "name": "ipython",
    "version": 3
   },
   "file_extension": ".py",
   "mimetype": "text/x-python",
   "name": "python",
   "nbconvert_exporter": "python",
   "pygments_lexer": "ipython3",
   "version": "3.6.3"
  }
 },
 "nbformat": 4,
 "nbformat_minor": 2
}
