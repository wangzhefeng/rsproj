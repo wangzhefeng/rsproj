{
 "cells": [
  {
   "cell_type": "markdown",
   "metadata": {},
   "source": [
    "# 分类器性能评估指标和方法"
   ]
  },
  {
   "cell_type": "markdown",
   "metadata": {},
   "source": [
    "1. 准确率通常无法成为分类器的首要性能指标, 特别是当你处理偏态分布(skewed dataset)的时候(即某些类比其他类的样本更多)；\n",
    "2. 评估分类器性能更好的方法是混淆矩阵(confusion matrix)；"
   ]
  },
  {
   "cell_type": "markdown",
   "metadata": {},
   "source": [
    "## 1.混淆矩阵"
   ]
  },
  {
   "cell_type": "code",
   "execution_count": null,
   "metadata": {
    "collapsed": true
   },
   "outputs": [],
   "source": [
    "from sklearn.metrics import confusion_matrix\n",
    "confusion_matrix(y_true, y_pred)"
   ]
  },
  {
   "cell_type": "markdown",
   "metadata": {},
   "source": [
    "* 混淆矩阵中的行表示**实际类别**, 列表示**预测类别**；\n",
    "* 一个完美的分类器只有**真负类(TP, true positive)**和**真正类(TN, true negtive)**, 即混淆矩阵只会在对角线上有非零值；\n",
    "* 混淆矩阵能提供大量分类信息, 但有时可能希望指标更简洁一些: \n",
    "    - 正类预测的准确率, 即分类器的精度"
   ]
  },
  {
   "cell_type": "markdown",
   "metadata": {},
   "source": [
    "## 1.2 精度 precision"
   ]
  },
  {
   "cell_type": "markdown",
   "metadata": {},
   "source": [
    "$$precision = \\frac{TP}{TP + FP}$$\n",
    "\n",
    "其中: \n",
    "\n",
    "* TP是正真类的数量, 混淆矩阵的右下角；\n",
    "* FP是假正类的数量, 混淆矩阵的右上角；\n",
    "* $100\\%$是完美的精度, 但是没有什么意义, 因为分类器会忽略这个正类实例之外的所有内容；\n",
    "* 精度(precision)通常与召回率(recall, 灵敏度(sensitivity))一起使用, ；"
   ]
  },
  {
   "cell_type": "markdown",
   "metadata": {},
   "source": [
    "## 1.3 召回率 recall"
   ]
  },
  {
   "cell_type": "markdown",
   "metadata": {},
   "source": [
    "$$recall = \\frac{TP}{TP + FN}$$\n",
    "\n",
    "其中: \n",
    "\n",
    "* TP是正真类的数量, 混淆矩阵的右下角；\n",
    "* FN是假负类的数量, 混淆矩阵的左下角；"
   ]
  },
  {
   "cell_type": "markdown",
   "metadata": {},
   "source": [
    "### 精度, 召回率实现"
   ]
  },
  {
   "cell_type": "code",
   "execution_count": null,
   "metadata": {
    "collapsed": true
   },
   "outputs": [],
   "source": [
    "from sklearn.metrics import precision_score, recall_score\n",
    "precision_score(y_true, y_pred)\n",
    "recall_score(y_true, y_pred)"
   ]
  },
  {
   "cell_type": "markdown",
   "metadata": {},
   "source": [
    "### 精度, 召回率解释"
   ]
  },
  {
   "cell_type": "markdown",
   "metadata": {},
   "source": [
    "* 精度:\n",
    "    - 当判断一个样本是正例时, 有多少的样本是预测准确的；\n",
    "* 召回率:\n",
    "    - 当谈论一个样本是正例时, 只有多少正真的正例被预测正确；"
   ]
  },
  {
   "cell_type": "markdown",
   "metadata": {},
   "source": [
    "## 1.4 F1 Score"
   ]
  },
  {
   "cell_type": "markdown",
   "metadata": {},
   "source": [
    "$$F1 = \\frac{2}{\\frac{1}{precision} + \\frac{1}{recall}}$$\n",
    "\n",
    "$$F1 = \\frac{TP}{TP + \\frac{FN+FP}{2}}$$\n",
    "\n",
    "* F1 score是精度和召回率的调和平均值；\n",
    "* 当需要一个更简单的方法比较两个分类器的性能时, F1 score是一个非常不错的指标；"
   ]
  },
  {
   "cell_type": "markdown",
   "metadata": {},
   "source": [
    "### F1 score的实现"
   ]
  },
  {
   "cell_type": "code",
   "execution_count": null,
   "metadata": {},
   "outputs": [],
   "source": [
    "from sklearn.metrics import f1_score\n",
    "f1_score(y_true, y_pred)"
   ]
  },
  {
   "cell_type": "markdown",
   "metadata": {},
   "source": [
    "### F1 score解释"
   ]
  },
  {
   "cell_type": "markdown",
   "metadata": {},
   "source": [
    "* F1 score对于那些具有相近的精度和召回率的分类器更有用；"
   ]
  },
  {
   "cell_type": "markdown",
   "metadata": {},
   "source": [
    "## 1.5 精度/召回率权衡"
   ]
  },
  {
   "cell_type": "markdown",
   "metadata": {},
   "source": [
    "#### 为什么要权衡"
   ]
  },
  {
   "cell_type": "markdown",
   "metadata": {},
   "source": [
    "在某些情况下, 更关心的是精度, 而另一些情况下, 更关心的是召回率；\n",
    "\n",
    "实际分类情况举例: \n",
    "\n",
    "1. 对于把有病的病人检测检测出来\n",
    "    - 将很多健康(负例)的病人检测为有病(高召回率), 但对真正有病的病人(真例)检测出来的都为有病(低精度)的分类器是好的分类器；\n",
    "2. 使用分类器检测儿童可以放心看的视屏\n",
    "    - 拦截了很多好视频(真例)(低召回率), 但保留下来的视屏都是安全的(高精度)的分类器是好的分类器；\n",
    "3. 使用分类器监控检测小偷\n",
    "    - 安保人员可能会收到一些错误的警报(高召回率), 但是几乎所有的窃贼都在劫难逃(低精度)；"
   ]
  },
  {
   "cell_type": "markdown",
   "metadata": {},
   "source": [
    "#### 权衡的原理"
   ]
  },
  {
   "cell_type": "markdown",
   "metadata": {},
   "source": [
    "* 很多分类器都是基于决策函数计算出一个分值, 如果该值大于阈值, 则将该实例判为正, 否则便将其判为负；不同的阈值分类的结果就会不同, 得到的精度和召回率就会不一样；\n",
    "* sklearn不允许直接设置阈值, 但是可以范围它用于预测的决策分数:\n",
    "    - `decision_function()`:返回每个样本实例的决策分数, 可以根据这些分数, 使用任意阈值进行预测；"
   ]
  },
  {
   "cell_type": "code",
   "execution_count": 7,
   "metadata": {},
   "outputs": [
    {
     "name": "stdout",
     "output_type": "stream",
     "text": [
      "{0.0: array([False,  True,  True,  True,  True,  True,  True,  True,  True,\n",
      "        True,  True,  True,  True,  True,  True,  True,  True,  True,\n",
      "        True,  True], dtype=bool), 0.1111111111111111: array([False, False, False,  True,  True,  True,  True,  True,  True,\n",
      "        True,  True,  True,  True,  True,  True,  True,  True,  True,\n",
      "        True,  True], dtype=bool), 0.22222222222222221: array([False, False, False, False, False,  True,  True,  True,  True,\n",
      "        True,  True,  True,  True,  True,  True,  True,  True,  True,\n",
      "        True,  True], dtype=bool), 0.33333333333333331: array([False, False, False, False, False, False, False,  True,  True,\n",
      "        True,  True,  True,  True,  True,  True,  True,  True,  True,\n",
      "        True,  True], dtype=bool), 0.44444444444444442: array([False, False, False, False, False, False, False, False, False,\n",
      "        True,  True,  True,  True,  True,  True,  True,  True,  True,\n",
      "        True,  True], dtype=bool), 0.55555555555555558: array([False, False, False, False, False, False, False, False, False,\n",
      "       False, False,  True,  True,  True,  True,  True,  True,  True,\n",
      "        True,  True], dtype=bool), 0.66666666666666663: array([False, False, False, False, False, False, False, False, False,\n",
      "       False, False, False, False,  True,  True,  True,  True,  True,\n",
      "        True,  True], dtype=bool), 0.77777777777777768: array([False, False, False, False, False, False, False, False, False,\n",
      "       False, False, False, False, False, False,  True,  True,  True,\n",
      "        True,  True], dtype=bool), 0.88888888888888884: array([False, False, False, False, False, False, False, False, False,\n",
      "       False, False, False, False, False, False, False, False,  True,\n",
      "        True,  True], dtype=bool), 1.0: array([False, False, False, False, False, False, False, False, False,\n",
      "       False, False, False, False, False, False, False, False, False,\n",
      "       False, False], dtype=bool)}\n"
     ]
    }
   ],
   "source": [
    "import numpy as np\n",
    "\n",
    "threshold = np.linspace(0.0, 1.0, 10)\n",
    "# y_score = clf.decision_function(X_train)\n",
    "y_score = np.linspace(0.0, 1.0, 20)\n",
    "\n",
    "y_pred = dict()\n",
    "for t in threshold:\n",
    "    y_pred[t] = (y_score > t)\n",
    "\n",
    "print(y_pred)"
   ]
  },
  {
   "cell_type": "markdown",
   "metadata": {},
   "source": [
    "### 如何决定使用什么阈值？"
   ]
  },
  {
   "cell_type": "markdown",
   "metadata": {},
   "source": [
    "#### 1.精度, 召回率相对于阈值的函数"
   ]
  },
  {
   "cell_type": "code",
   "execution_count": null,
   "metadata": {
    "collapsed": true
   },
   "outputs": [],
   "source": [
    "from sklearn.model_selection import cross_val_predict\n",
    "from sklearn.metrics import precision_recall_curve\n",
    "\n",
    "# 获得训练集中所有样本实例的分数\n",
    "y_score = cross_val_predict(clf, X_train, y_train, \n",
    "                            cv = 5, \n",
    "                            method = \"decision_function\")\n",
    "\n",
    "# 计算所有可能的阈值的精度和召回率\n",
    "precisions, recalls, thresholds = precision_recall_curve(y_true, y_score)\n",
    "\n",
    "# 回执精度和召回率相对于阈值的函数图\n",
    "def plot_precision_recall_vs_threshold(precision, recalls, thresholds):\n",
    "    plt.plot(thresholds, precisions[:-1], \"b--\", label = \"Precision\")\n",
    "    plt.plot(thresholds, recalls[:-1], \"g--\", label = \"Recall\")\n",
    "    plt.xlabel(\"Thresholds\")\n",
    "    plt.legend(loc = \"upper left\")\n",
    "    plt.ylim([0, 1])\n",
    "    plt.show()\n",
    "plot_precision_recall_vs_threshold(precisions, recalls, thresholds)"
   ]
  },
  {
   "cell_type": "markdown",
   "metadata": {},
   "source": [
    "#### 2.精度和召回率函数"
   ]
  },
  {
   "cell_type": "code",
   "execution_count": null,
   "metadata": {},
   "outputs": [],
   "source": [
    "plot(recall, precision)"
   ]
  },
  {
   "cell_type": "markdown",
   "metadata": {},
   "source": [
    "# 2.ROC、AUC"
   ]
  },
  {
   "cell_type": "markdown",
   "metadata": {},
   "source": [
    "## 2.1 ROC\n",
    "\n",
    "* ROC曲线绘制的是灵敏度和(1-特异度)的关系\n",
    "    - 灵敏度: $真正类率(TPR)/召回率 = \\frac{TP}{TP + FN}$\n",
    "    - 特异度: $真负类率 = \\frac{TN}{TN + FP}$\n",
    "        - 被正确分类为负类的负类实例比率\n",
    "        - 假正类率: 被错误分为正类的负类实例的比率；\n",
    "            - $假正类率(FPR) = 1 - 真负类率 = \\frac{FP}{FP + TN}$"
   ]
  },
  {
   "cell_type": "markdown",
   "metadata": {},
   "source": [
    "### 绘制ROC曲线"
   ]
  },
  {
   "cell_type": "code",
   "execution_count": null,
   "metadata": {
    "collapsed": true
   },
   "outputs": [],
   "source": [
    "from sklearn.metrics import roc_curve\n",
    "\n",
    "fpr, tpr, thresholds = roc_curve(y_train, y_scores)\n",
    "\n",
    "def plot_roc_curve(fpr, tpr, label = None):\n",
    "    plt.plot(fpr, tpr, linewidth = 2, label = label)\n",
    "    plt.plot([0, 1], [0, 1], 'k--')\n",
    "    plt.axis([0, 1, 0, 1])\n",
    "    plt.xlabel(\"False Positive Rate\")\n",
    "    plt.ylabel(\"True Positive Rate\")\n",
    "\n",
    "plot_roc_curve(fpr, tpr)\n",
    "plt.show()"
   ]
  },
  {
   "cell_type": "markdown",
   "metadata": {},
   "source": [
    "### AUC"
   ]
  },
  {
   "cell_type": "code",
   "execution_count": null,
   "metadata": {},
   "outputs": [],
   "source": [
    "from sklearn.metrics import roc_auc_score\n",
    "\n",
    "roc_auc_score(y_train, y_scores)"
   ]
  }
 ],
 "metadata": {
  "kernelspec": {
   "display_name": "Python 3",
   "language": "python",
   "name": "python3"
  },
  "language_info": {
   "codemirror_mode": {
    "name": "ipython",
    "version": 3
   },
   "file_extension": ".py",
   "mimetype": "text/x-python",
   "name": "python",
   "nbconvert_exporter": "python",
   "pygments_lexer": "ipython3",
   "version": "3.7.0"
  }
 },
 "nbformat": 4,
 "nbformat_minor": 2
}
